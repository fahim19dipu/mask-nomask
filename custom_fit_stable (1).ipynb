{
 "cells": [
  {
   "cell_type": "markdown",
   "id": "966457b6",
   "metadata": {},
   "source": [
    "# Nybsys Recruitment Project"
   ]
  },
  {
   "cell_type": "markdown",
   "id": "f87921c2",
   "metadata": {},
   "source": [
    "### Importing libaries"
   ]
  },
  {
   "cell_type": "code",
   "execution_count": 1,
   "id": "3e615421",
   "metadata": {},
   "outputs": [],
   "source": [
    "import os \n",
    "os.add_dll_directory(\"C:/Program Files/NVIDIA GPU Computing Toolkit/CUDA/v11.6/bin\")\n",
    "\n",
    "from functools import partial\n",
    "import albumentations as A\n",
    "import matplotlib.pyplot as plt\n",
    "import matplotlib as mpl\n",
    "import glob\n",
    "import tensorflow as tf\n",
    "import numpy as np\n",
    "import seaborn as sns\n",
    "from tensorflow.keras import models, layers"
   ]
  },
  {
   "cell_type": "markdown",
   "id": "e0f8cf8e",
   "metadata": {},
   "source": [
    "### Intialzing Variables"
   ]
  },
  {
   "cell_type": "code",
   "execution_count": 2,
   "id": "18bc3d0f",
   "metadata": {},
   "outputs": [],
   "source": [
    "AUTOTUNE = tf.data.experimental.AUTOTUNE\n",
    "#AUTOTUNE = 15\n",
    "mpl.rcParams['figure.figsize'] = (12, 10)\n",
    "colors = plt.rcParams['axes.prop_cycle'].by_key()['color']\n",
    "BUFFER_SIZE = 1000\n",
    "BATCH_SIZE = 64\n",
    "\n",
    "METRICS = [\n",
    "      tf.keras.metrics.TruePositives(name='tp'),\n",
    "      tf.keras.metrics.FalsePositives(name='fp'),\n",
    "      tf.keras.metrics.TrueNegatives(name='tn'),\n",
    "      tf.keras.metrics.FalseNegatives(name='fn'), \n",
    "      tf.keras.metrics.BinaryAccuracy(name='accuracy'),\n",
    "      tf.keras.metrics.Precision(name='precision'),\n",
    "      tf.keras.metrics.Recall(name='recall'),\n",
    "      tf.keras.metrics.AUC(name='auc'),\n",
    "      tf.keras.metrics.AUC(name='prc', curve='PR'), # precision-recall curve\n",
    "]"
   ]
  },
  {
   "cell_type": "markdown",
   "id": "93a0300b",
   "metadata": {},
   "source": [
    "### Plotting methods"
   ]
  },
  {
   "cell_type": "code",
   "execution_count": 3,
   "id": "7d8d5c57",
   "metadata": {},
   "outputs": [],
   "source": [
    "### Plot the confussion matrix of trained model\n",
    "def plot_cm(labels, predictions):\n",
    "  cm = tf.math.confusion_matrix(labels, predictions)\n",
    "  plt.figure(figsize=(5,5))\n",
    "  sns.heatmap(cm, annot=True, fmt=\"d\")\n",
    "  plt.title('Confusion matrix')\n",
    "  plt.ylabel('Actual label')\n",
    "  plt.xlabel('Predicted label')\n",
    "\n",
    "  print('Unmasked image Detected (True Negatives): ', cm[0][0])\n",
    "  print('Unmasked image Incorrectly Detected (False Positives): ', cm[0][1])\n",
    "  print('Masked image Missed (False Negatives): ', cm[1][0])\n",
    "  print('Masked image Detected (True Positives): ', cm[1][1])\n",
    "  print('Total masked image Transactions: ', np.sum(cm[1]))\n",
    "\n",
    "### Plot various losses of the model with respect to epochs\n",
    "def plot_loss(history, label, n):\n",
    "  # Use a log scale on y-axis to show the wide range of values.\n",
    "  plt.semilogy(history.epoch, history.history['loss'],\n",
    "               color=colors[n], label='Train ' + label)\n",
    "  plt.semilogy(history.epoch, history.history['val_loss'],\n",
    "               color=colors[n], label='Val ' + label,\n",
    "               linestyle=\"--\")\n",
    "  plt.xlabel('Epoch')\n",
    "  plt.ylabel('Loss')\n",
    "\n",
    "### Plot various metrices of the model with respect to epochs\n",
    "def plot_metrics(history):\n",
    "  metrics = ['loss', 'prc', 'precision', 'recall']\n",
    "  for n, metric in enumerate(metrics):\n",
    "    name = metric.replace(\"_\",\" \").capitalize()\n",
    "    plt.subplot(2,2,n+1)\n",
    "    plt.plot(history.epoch, history.history[metric], color=colors[0], label='Train')\n",
    "    plt.plot(history.epoch, history.history['val_'+metric],\n",
    "             color=colors[0], linestyle=\"--\", label='Val')\n",
    "    plt.xlabel('Epoch')\n",
    "    plt.ylabel(name)\n",
    "    if metric == 'loss':\n",
    "      plt.ylim([0, plt.ylim()[1]])\n",
    "    elif metric == 'auc':\n",
    "      plt.ylim([0.8,1])\n",
    "    else:\n",
    "      plt.ylim([0,1])\n",
    "\n",
    "    plt.legend();\n",
    "    \n",
    "### view images from a batch\n",
    "def view_image(ds):\n",
    "    image, label = next(iter(ds)) # extract 1 batch from the dataset\n",
    "    image = image.numpy()\n",
    "    label = label.numpy()\n",
    "    \n",
    "    fig = plt.figure(figsize=(22, 22))\n",
    "    for i in range(20):\n",
    "        ax = fig.add_subplot(4, 5, i+1, xticks=[], yticks=[])\n",
    "        ax.imshow(image[i])\n",
    "        ax.set_title(f\"Label: {label[i]}\")"
   ]
  },
  {
   "cell_type": "markdown",
   "id": "ab5cbe2c",
   "metadata": {},
   "source": [
    "### Parsing methods for dataloaders"
   ]
  },
  {
   "cell_type": "code",
   "execution_count": 20,
   "id": "7c6d74c5",
   "metadata": {},
   "outputs": [],
   "source": [
    "### reset the shape of the instaces of the dataset \n",
    "def set_shapes(img, label, img_shape=(120,120,3)):\n",
    "    img.set_shape(img_shape)\n",
    "    return img, label\n",
    "### read , decode and normalize the images\n",
    "def _parse_function(filename, label):\n",
    "    image_string = tf.io.read_file(filename)\n",
    "    image_decoded = tf.image.decode_jpeg(image_string, channels=3)\n",
    "    image_decoded = tf.image.resize(image_decoded, [120, 120])\n",
    "    image = tf.cast(image_decoded, tf.float32)\n",
    "    return image, label\n",
    "def _parse_function_2(filename):\n",
    "    image_string = tf.io.read_file(filename)\n",
    "    image_decoded = tf.image.decode_jpeg(image_string, channels=3)\n",
    "    image_decoded = tf.image.resize(image_decoded, [120, 120])\n",
    "    image = tf.cast(image_decoded, tf.float32)\n",
    "    \n",
    "    return image.numpy()\n",
    "### make dataset with given list of filenames and respective lebels\n",
    "def make_ds(features, labels):\n",
    "    labels = tf.one_hot(labels,2)\n",
    "    ds = tf.data.Dataset.from_tensor_slices((features, labels))#.cache()\n",
    "    ds = ds.map(_parse_function)\n",
    "    ds = ds.shuffle(BUFFER_SIZE)\n",
    "    return ds"
   ]
  },
  {
   "cell_type": "markdown",
   "id": "b7f83796",
   "metadata": {},
   "source": [
    "### Augmentation Function"
   ]
  },
  {
   "cell_type": "code",
   "execution_count": 5,
   "id": "0540c164",
   "metadata": {},
   "outputs": [],
   "source": [
    "### Apply augmentation function on a dataset\n",
    "def process_data(image, label, img_size):\n",
    "    aug_img = tf.numpy_function(func=aug_fn, inp=[image, img_size], Tout=tf.float32)\n",
    "    return aug_img, label\n",
    "\n",
    "def aug_fn(image, img_size):\n",
    "    data = {\"image\":image}\n",
    "    transforms = A.Compose([\n",
    "    A.HorizontalFlip(p=0.5),\n",
    "    #A.RandomBrightnessContrast(p=0.2),\n",
    "            ])\n",
    "    aug_data = transforms(**data)\n",
    "    aug_img = aug_data[\"image\"]\n",
    "    return aug_img"
   ]
  },
  {
   "cell_type": "markdown",
   "id": "35e723f6",
   "metadata": {},
   "source": [
    "### Validation and Test Dataset loader"
   ]
  },
  {
   "cell_type": "code",
   "execution_count": 6,
   "id": "c54b4fc6",
   "metadata": {},
   "outputs": [],
   "source": [
    "def val_dataloader():\n",
    "    \n",
    "    val_files_mask = [f for f in glob.glob(\"F:/nybsys project/mask_non_mask/mask/val/*/*\")]\n",
    "    val_label = [1]*len(val_files_mask)\n",
    "    \n",
    "    val_files_nonmask = [f for f in glob.glob(\"F:/nybsys project/mask_non_mask/nonmask/val/*/*\")]\n",
    "    val_label = val_label + [0]*len(val_files_nonmask)\n",
    "    \n",
    "    val_files = val_files_mask+ val_files_nonmask\n",
    "    #############################################################################################\n",
    "    val_label = tf.one_hot(val_label,2)\n",
    "    val_dataset = tf.data.Dataset.from_tensor_slices((val_files,val_label ))\n",
    "    \n",
    "    val_dataset = val_dataset.map(_parse_function)\n",
    "    val_dataset=  val_dataset.map(set_shapes, num_parallel_calls=AUTOTUNE).shuffle(BUFFER_SIZE).batch(BATCH_SIZE).prefetch(AUTOTUNE)\n",
    "    #############################################################################################\n",
    "    print(val_dataset)\n",
    "    print(tf.data.experimental.cardinality(val_dataset).numpy())\n",
    "    \n",
    "    return val_dataset\n",
    "\n",
    "def test_dataloader():\n",
    "\n",
    "    test_files_mask = [f for f in glob.glob(\"F:/nybsys project/mask_non_mask/mask/test/*/*\")]\n",
    "    test_label = [1]*len(test_files_mask)\n",
    "    \n",
    "    test_files_nonmask = [f for f in glob.glob(\"F:/nybsys project/mask_non_mask/nonmask/test/*/*\")]\n",
    "    test_label = test_label + [0]*len(test_files_nonmask)\n",
    "    \n",
    "    test_files = test_files_mask+ test_files_nonmask\n",
    "    #############################################################################################\n",
    "    test_label = tf.one_hot(test_label,2)\n",
    "    test_dataset = tf.data.Dataset.from_tensor_slices((test_files,test_label )) \n",
    "    \n",
    "    test_dataset = test_dataset.map(_parse_function)\n",
    "    test_dataset=  test_dataset.map(set_shapes, num_parallel_calls=AUTOTUNE).shuffle(BUFFER_SIZE).batch(BATCH_SIZE).prefetch(AUTOTUNE)\n",
    "\n",
    "    #############################################################################################\n",
    "    print(test_dataset)\n",
    "    print(tf.data.experimental.cardinality(test_dataset).numpy())\n",
    "    \n",
    "    return test_dataset"
   ]
  },
  {
   "cell_type": "markdown",
   "id": "7a86cbcb",
   "metadata": {},
   "source": [
    "### Train Dataloader with Augmentation"
   ]
  },
  {
   "cell_type": "code",
   "execution_count": 7,
   "id": "5d90389b",
   "metadata": {},
   "outputs": [],
   "source": [
    "def training_dataloader():\n",
    "    \n",
    "    train_files_mask = [f for f in glob.glob('F:/nybsys project/mask_non_mask/mask/train/*/*')]\n",
    "    train_label_mask = [1]*len(train_files_mask)\n",
    "\n",
    "    train_files_nonmask = [f for f in glob.glob('F:/nybsys project/mask_non_mask/nonmask/train/*/*' )]\n",
    "    train_label_nonmask = [0]*len(train_files_nonmask)\n",
    "\n",
    "    pos_ds = make_ds(train_files_mask, train_label_mask)\n",
    "    ###################################################################################\n",
    "    \"\"\"Applying augmentation\"\"\"\n",
    "    aug_1_ds = pos_ds.map(partial(process_data, img_size=120),\n",
    "                      num_parallel_calls=AUTOTUNE).prefetch(AUTOTUNE)\n",
    "    pos_ds = pos_ds.concatenate(aug_1_ds)\n",
    "    \n",
    "    aug_2_ds = pos_ds.map(partial(process_data, img_size=120),\n",
    "                      num_parallel_calls=AUTOTUNE).prefetch(AUTOTUNE)\n",
    "    pos_ds = pos_ds.concatenate(aug_2_ds)\n",
    "    \n",
    "    aug_3_ds = pos_ds.map(partial(process_data, img_size=120),\n",
    "                      num_parallel_calls=AUTOTUNE).prefetch(AUTOTUNE)\n",
    "    pos_ds = pos_ds.concatenate(aug_3_ds)\n",
    "    \n",
    "    aug_4_ds = pos_ds.map(partial(process_data, img_size=120),\n",
    "                      num_parallel_calls=AUTOTUNE).prefetch(AUTOTUNE)\n",
    "    pos_ds = pos_ds.concatenate(aug_4_ds)\n",
    "    \n",
    "    aug_5_ds = pos_ds.map(partial(process_data, img_size=120),\n",
    "                      num_parallel_calls=AUTOTUNE).prefetch(AUTOTUNE)\n",
    "    pos_ds = pos_ds.concatenate(aug_5_ds)\n",
    "    \n",
    "    aug_6_ds = pos_ds.map(partial(process_data, img_size=120),\n",
    "                      num_parallel_calls=AUTOTUNE).prefetch(AUTOTUNE)\n",
    "    pos_ds = pos_ds.concatenate(aug_6_ds)\n",
    "    \n",
    "    print(tf.data.experimental.cardinality(pos_ds).numpy())\n",
    "    ###################################################################################\n",
    "    neg_ds = make_ds(train_files_nonmask, train_label_nonmask)\n",
    "    neg_ds = neg_ds.map(partial(process_data, img_size=120),\n",
    "                      num_parallel_calls=AUTOTUNE).prefetch(AUTOTUNE)\n",
    "    print(tf.data.experimental.cardinality(neg_ds).numpy())\n",
    "    \n",
    "    resampled_ds = tf.data.Dataset.sample_from_datasets([pos_ds, neg_ds], weights=[0.05,0.95])\n",
    "    \n",
    "    resampled_ds = resampled_ds.batch(BATCH_SIZE).shuffle(BUFFER_SIZE).prefetch(AUTOTUNE)\n",
    "    print(resampled_ds)\n",
    "\n",
    "    for features, label in resampled_ds.take(1):\n",
    "        print(label.numpy().mean())\n",
    "\n",
    "\n",
    "    return resampled_ds\n",
    "#training_ds()"
   ]
  },
  {
   "cell_type": "markdown",
   "id": "05cfeaea",
   "metadata": {},
   "source": [
    "### Making Classifier"
   ]
  },
  {
   "cell_type": "code",
   "execution_count": 8,
   "id": "5f449966",
   "metadata": {},
   "outputs": [],
   "source": [
    "def make_model(input_shape,metrics=METRICS):\n",
    "    model = models.Sequential([\n",
    "            layers.Conv2D(32, (3, 3), activation='relu', input_shape=input_shape),\n",
    "            layers.MaxPooling2D((2, 2)),\n",
    "            layers.Conv2D(64, (3, 3), activation='relu'),\n",
    "            layers.MaxPooling2D((2, 2)),\n",
    "            layers.Conv2D(64, (3, 3), activation='relu'),\n",
    "            layers.Flatten(),\n",
    "            layers.Dense(64, activation='relu'),\n",
    "            layers.Dense(2, activation='sigmoid')])\n",
    "    model.compile(optimizer=tf.keras.optimizers.Adam(learning_rate=0.01), \n",
    "                  loss=[tf.keras.losses.BinaryCrossentropy(from_logits=True),\n",
    "                        tf.keras.losses.KLDivergence()],metrics=metrics)\n",
    "    return model   "
   ]
  },
  {
   "cell_type": "markdown",
   "id": "b66b0f82",
   "metadata": {},
   "source": [
    "### Calling functions to create datasets and model"
   ]
  },
  {
   "cell_type": "code",
   "execution_count": 9,
   "id": "1dc4f861",
   "metadata": {},
   "outputs": [
    {
     "name": "stdout",
     "output_type": "stream",
     "text": [
      "16064\n",
      "14329\n",
      "<PrefetchDataset element_spec=(TensorSpec(shape=<unknown>, dtype=tf.float32, name=None), TensorSpec(shape=(None, 2), dtype=tf.float32, name=None))>\n",
      "0.5\n",
      "<PrefetchDataset element_spec=(TensorSpec(shape=(None, 120, 120, 3), dtype=tf.float32, name=None), TensorSpec(shape=(None, 2), dtype=tf.float32, name=None))>\n",
      "80\n",
      "<PrefetchDataset element_spec=(TensorSpec(shape=(None, 120, 120, 3), dtype=tf.float32, name=None), TensorSpec(shape=(None, 2), dtype=tf.float32, name=None))>\n",
      "83\n"
     ]
    }
   ],
   "source": [
    "train_dataset = training_dataloader()\n",
    "val_dataset = val_dataloader()\n",
    "test_dataset= test_dataloader()\n",
    "model= make_model((120,120,3))"
   ]
  },
  {
   "cell_type": "markdown",
   "id": "845d1f62",
   "metadata": {},
   "source": [
    "### Custom training and validation function"
   ]
  },
  {
   "cell_type": "code",
   "execution_count": 10,
   "id": "b1bd2e55",
   "metadata": {},
   "outputs": [],
   "source": [
    "# Train the model\n",
    "@tf.function\n",
    "def model_train(features, labels):\n",
    "    # Define the GradientTape context\n",
    "    with tf.GradientTape() as tape:\n",
    "        # Get the probabilities\n",
    "        predictions = model(features)\n",
    "        # Calculate the loss\n",
    "        loss1 = loss_func_1(labels, predictions)\n",
    "        loss2 = loss_func_2(labels, predictions)\n",
    "        loss = tf.add(loss1,loss2)\n",
    "        \n",
    "    # Get the gradients\n",
    "    gradients = tape.gradient(loss, model.trainable_variables)\n",
    "    # Update the weights\n",
    "    optimizer.apply_gradients(zip(gradients, model.trainable_variables))\n",
    "\n",
    "    # Update the loss and accuracy\n",
    "    train_loss(loss)\n",
    "    train_acc(labels, predictions)\n",
    "\n",
    "# Validating the model\n",
    "@tf.function\n",
    "def model_validate(features, labels):\n",
    "    predictions = model(features)\n",
    "    v_loss = loss_func_1(labels, predictions)\n",
    "\n",
    "    valid_loss(v_loss)\n",
    "    valid_acc(labels, predictions)"
   ]
  },
  {
   "cell_type": "markdown",
   "id": "1cecc67d",
   "metadata": {},
   "source": [
    "### Training with augmented train datatset while evaluated with given validation dataset"
   ]
  },
  {
   "cell_type": "code",
   "execution_count": 11,
   "id": "fba537cf",
   "metadata": {},
   "outputs": [
    {
     "name": "stdout",
     "output_type": "stream",
     "text": [
      "Training Started\n",
      "Epoch 1, loss: 7.540, acc: 0.730, val_loss: 0.517, val_acc: 0.729\n",
      "Epoch 2, loss: 0.235, acc: 0.935, val_loss: 0.221, val_acc: 0.942\n"
     ]
    }
   ],
   "source": [
    "train_loss = tf.keras.metrics.Mean(name=\"train_loss\")\n",
    "valid_loss = tf.keras.metrics.Mean(name=\"test_loss\")\n",
    "\n",
    "# Specify the performance metric\n",
    "train_acc = tf.keras.metrics.BinaryAccuracy(name=\"train_acc\")\n",
    "valid_acc = tf.keras.metrics.BinaryAccuracy(name=\"valid_acc\")\n",
    "loss_func_1 = tf.keras.losses.BinaryCrossentropy()\n",
    "loss_func_2 = tf.keras.losses.KLDivergence()\n",
    "optimizer = tf.keras.optimizers.Adam()\n",
    "print(\"Training Started\")\n",
    "# Train the model for 2 epochs\n",
    "for epoch in range(2):\n",
    "    # Run the model through train and test sets respectively\n",
    "    for (features, labels) in train_dataset:\n",
    "        model_train(features, labels)\n",
    "\n",
    "    for val_features, val_labels in val_dataset:\n",
    "        model_validate(val_features, val_labels)\n",
    "        \n",
    "    # Grab the results\n",
    "    (loss, acc) = train_loss.result(), train_acc.result()\n",
    "    (val_loss, val_acc) = valid_loss.result(), valid_acc.result()\n",
    "    \n",
    "    # Clear the current state of the metrics\n",
    "    train_loss.reset_states(), train_acc.reset_states()\n",
    "    valid_loss.reset_states(), valid_acc.reset_states()\n",
    "    \n",
    "    # Local logging\n",
    "    template = \"Epoch {}, loss: {:.3f}, acc: {:.3f}, val_loss: {:.3f}, val_acc: {:.3f}\"\n",
    "    print (template.format(epoch+1,\n",
    "                         loss,\n",
    "                         acc,\n",
    "                         val_loss,\n",
    "                         val_acc))"
   ]
  },
  {
   "cell_type": "markdown",
   "id": "e9dc5446",
   "metadata": {},
   "source": [
    "### Evalaute trained model with test dataset"
   ]
  },
  {
   "cell_type": "code",
   "execution_count": 12,
   "id": "f3b0aeb4",
   "metadata": {},
   "outputs": [
    {
     "name": "stderr",
     "output_type": "stream",
     "text": [
      "C:\\anaconda\\lib\\site-packages\\tensorflow\\python\\util\\dispatch.py:1082: UserWarning: \"`binary_crossentropy` received `from_logits=True`, but the `output` argument was produced by a sigmoid or softmax activation and thus does not represent logits. Was this intended?\"\n",
      "  return dispatch_target(*args, **kwargs)\n"
     ]
    },
    {
     "name": "stdout",
     "output_type": "stream",
     "text": [
      "83/83 [==============================] - 22s 188ms/step - loss: 0.1608 - tp: 5088.0000 - fp: 365.0000 - tn: 4887.0000 - fn: 164.0000 - accuracy: 0.9496 - precision: 0.9331 - recall: 0.9688 - auc: 0.9865 - prc: 0.9849\n",
      "Test Confusion Matrix\n",
      "tf.Tensor(\n",
      "[[4901  266]\n",
      " [  76    9]], shape=(2, 2), dtype=int32)\n",
      "Unmasked image Detected (True Negatives):  tf.Tensor(4901, shape=(), dtype=int32)\n",
      "Unmasked image Incorrectly Detected (False Positives):  tf.Tensor(266, shape=(), dtype=int32)\n",
      "Masked image Missed (False Negatives):  tf.Tensor(76, shape=(), dtype=int32)\n",
      "Masked image Detected (True Positives):  tf.Tensor(9, shape=(), dtype=int32)\n",
      "Total masked image Transactions:  85\n",
      "Test Classification Report\n",
      "              precision    recall  f1-score   support\n",
      "\n",
      "           0       0.98      0.95      0.97      5167\n",
      "           1       0.03      0.11      0.05        85\n",
      "\n",
      "    accuracy                           0.93      5252\n",
      "   macro avg       0.51      0.53      0.51      5252\n",
      "weighted avg       0.97      0.93      0.95      5252\n",
      "\n"
     ]
    },
    {
     "data": {
      "image/png": "[encoded data removed]",
      "text/plain": [
       "<Figure size 360x360 with 2 Axes>"
      ]
     },
     "metadata": {
      "needs_background": "light"
     },
     "output_type": "display_data"
    }
   ],
   "source": [
    "model.evaluate(test_dataset)\n",
    "\n",
    "y_pred = model.predict(test_dataset)\n",
    "y_pred = tf.argmax(y_pred, axis = 1)\n",
    "\n",
    "print('Test Confusion Matrix')\n",
    "y = np.concatenate([y for x, y in test_dataset], axis=0)\n",
    "y = tf.argmax(y, axis = 1)\n",
    "cm =tf.math.confusion_matrix(y, y_pred)\n",
    "print(cm)\n",
    "plot_cm(y, y_pred)\n",
    "import  sklearn\n",
    "print('Test Classification Report')\n",
    "print(sklearn.metrics.classification_report(y, y_pred))"
   ]
  },
  {
   "cell_type": "code",
   "execution_count": 13,
   "id": "812966cc",
   "metadata": {},
   "outputs": [],
   "source": [
    "file_name =  \"model_acc_\"+str(cm[1][1])\n",
    "model_json = model.to_json()\n",
    "dire = \"F:/nybsys project/\"+file_name+\".json\"\n",
    "dire2 = \"F:/nybsys project/\"+file_name+\".h5\"\n",
    "with open(dire,\"w\") as json_file:\n",
    "  json_file.write(model_json)\n",
    "model.save(dire2) \n",
    "#model.save('F:/nybsys project/')"
   ]
  },
  {
   "cell_type": "code",
   "execution_count": 26,
   "id": "c08203bd",
   "metadata": {},
   "outputs": [
    {
     "name": "stdout",
     "output_type": "stream",
     "text": [
      "[[1.0000000e+00 2.5934769e-05]]\n",
      "tf.Tensor([0], shape=(1,), dtype=int64)\n"
     ]
    }
   ],
   "source": [
    "image_path = \"F:/nybsys project/corr/1648442725413.jpeg\"\n",
    "image = _parse_function_2(image_path)\n",
    "#print(image)\n",
    "image = image.reshape(1,120,120,3)\n",
    "y_pred = model.predict(image)\n",
    "print(y_pred)\n",
    "y_pred = tf.argmax(y_pred, axis = 1)\n",
    "print(y_pred)"
   ]
  },
  {
   "cell_type": "code",
   "execution_count": null,
   "id": "be53527d",
   "metadata": {},
   "outputs": [],
   "source": []
  },
  {
   "cell_type": "code",
   "execution_count": null,
   "id": "efb4bf8f",
   "metadata": {},
   "outputs": [],
   "source": []
  }
 ],
 "metadata": {
  "kernelspec": {
   "display_name": "Python 3 (ipykernel)",
   "language": "python",
   "name": "python3"
  },
  "language_info": {
   "codemirror_mode": {
    "name": "ipython",
    "version": 3
   },
   "file_extension": ".py",
   "mimetype": "text/x-python",
   "name": "python",
   "nbconvert_exporter": "python",
   "pygments_lexer": "ipython3",
   "version": "3.9.7"
  }
 },
 "nbformat": 4,
 "nbformat_minor": 5
}
